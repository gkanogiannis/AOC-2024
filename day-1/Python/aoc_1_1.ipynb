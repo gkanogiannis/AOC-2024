{
 "cells": [
  {
   "cell_type": "code",
   "execution_count": 2,
   "metadata": {},
   "outputs": [
    {
     "name": "stdout",
     "output_type": "stream",
     "text": [
      "Total Distance: 2904518\n"
     ]
    },
    {
     "data": {
      "text/plain": [
       "18650129"
      ]
     },
     "execution_count": 2,
     "metadata": {},
     "output_type": "execute_result"
    }
   ],
   "source": [
    "def read_input(file_path):\n",
    "    left_list = []\n",
    "    right_list = []\n",
    "    \n",
    "    with open(file_path, 'r') as file:\n",
    "        for line in file:\n",
    "            left, right = map(int, line.split())\n",
    "            left_list.append(left)\n",
    "            right_list.append(right)\n",
    "    \n",
    "    return left_list, right_list\n",
    "\n",
    "def calculate_total_distance(left_list, right_list):\n",
    "    left_sorted = sorted(left_list)\n",
    "    right_sorted = sorted(right_list)\n",
    "    \n",
    "    total_distance = sum(abs(l - r) for l, r in zip(left_sorted, right_sorted))\n",
    "    return total_distance\n",
    "\n",
    "file_path = \"../1.txt\"\n",
    "left_list, right_list = read_input(file_path)\n",
    "\n",
    "total_distance = calculate_total_distance(left_list, right_list)\n",
    "print(f\"Total Distance: {total_distance}\")\n",
    "\n",
    "18650129"
   ]
  }
 ],
 "metadata": {
  "kernelspec": {
   "display_name": "Python 3",
   "language": "python",
   "name": "python3"
  },
  "language_info": {
   "codemirror_mode": {
    "name": "ipython",
    "version": 3
   },
   "file_extension": ".py",
   "mimetype": "text/x-python",
   "name": "python",
   "nbconvert_exporter": "python",
   "pygments_lexer": "ipython3",
   "version": "3.9.6"
  }
 },
 "nbformat": 4,
 "nbformat_minor": 2
}
